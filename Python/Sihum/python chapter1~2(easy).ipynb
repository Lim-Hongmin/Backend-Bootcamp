{
 "cells": [
  {
   "metadata": {},
   "cell_type": "markdown",
   "source": "# 파이썬 1~2일차 쪽지시험",
   "id": "5ce5aa2babe14282"
  },
  {
   "metadata": {},
   "cell_type": "markdown",
   "source": [
    "## 문제 1\n",
    "### 오즈코딩스쿨에서 코딩을 처음 시작한 박상훈!\n",
    "### 박상훈에게는 덩치, 애기라는 도마뱀이 있습니다.\n",
    "### 도마뱀의 나이는 각각 1살 2살 입니다.\n",
    "### 각 도마뱀의 이름으로 변수를 선언하고 각 도마뱀의 나이를 할당해주세요!!"
   ],
   "id": "136e2d85abe685b9"
  },
  {
   "metadata": {
    "ExecuteTime": {
     "end_time": "2024-10-17T12:29:43.599256Z",
     "start_time": "2024-10-17T12:29:43.593695Z"
    }
   },
   "cell_type": "code",
   "source": [
    "dungchi_age = 1\n",
    "aegi_age = 2"
   ],
   "id": "8e5a1ab9c30b38a7",
   "outputs": [],
   "execution_count": 1
  },
  {
   "metadata": {},
   "cell_type": "markdown",
   "source": [
    "## 문제 2\n",
    "### 박상훈의 `도마뱀 변수`들을 사용하여 `도마뱀 리스트`를 만들어 주세요!"
   ],
   "id": "94e68ef24ba3e5f7"
  },
  {
   "metadata": {
    "ExecuteTime": {
     "end_time": "2024-10-17T12:29:43.605266Z",
     "start_time": "2024-10-17T12:29:43.602206Z"
    }
   },
   "cell_type": "code",
   "source": "ages = [dungchi_age, aegi_age]",
   "id": "b8334aff8ce27138",
   "outputs": [],
   "execution_count": 2
  },
  {
   "metadata": {},
   "cell_type": "markdown",
   "source": [
    "## 문제 3\n",
    "### 박상훈이 도마뱀을 새로 샀어요!\n",
    "### 도마뱀의 이름은 마고, 나이는 2살이에요!\n",
    "### `도마뱀 리스트`에 가장 끝에 추가해주세요!!"
   ],
   "id": "454fe842db180fc"
  },
  {
   "metadata": {
    "ExecuteTime": {
     "end_time": "2024-10-17T12:29:43.820251Z",
     "start_time": "2024-10-17T12:29:43.815960Z"
    }
   },
   "cell_type": "code",
   "source": [
    "mago_age = 2\n",
    "\n",
    "ages.append(mago_age)\n",
    "\n",
    "print(ages)"
   ],
   "id": "3ec1ef1be2927b78",
   "outputs": [
    {
     "name": "stdout",
     "output_type": "stream",
     "text": [
      "[1, 2, 2]\n"
     ]
    }
   ],
   "execution_count": 3
  },
  {
   "metadata": {},
   "cell_type": "markdown",
   "source": [
    "## 문제 4\n",
    "### 박상훈의 도마뱀들의 나이를 더해 주세요!!"
   ],
   "id": "20ccbdf20f857d13"
  },
  {
   "metadata": {
    "ExecuteTime": {
     "end_time": "2024-10-17T12:29:43.861446Z",
     "start_time": "2024-10-17T12:29:43.857698Z"
    }
   },
   "cell_type": "code",
   "source": [
    "total_age = 0\n",
    "\n",
    "for i in range(len(ages)):\n",
    "    total_age += ages[i]\n",
    "    \n",
    "print(f\"도마뱀들의 총 나이: {total_age}\")"
   ],
   "id": "3ebc179d264d3866",
   "outputs": [
    {
     "name": "stdout",
     "output_type": "stream",
     "text": [
      "도마뱀들의 총 나이: 5\n"
     ]
    }
   ],
   "execution_count": 4
  },
  {
   "metadata": {},
   "cell_type": "markdown",
   "source": [
    "## 문제 5\n",
    "### 박상훈의 `도마뱀 리스트`를 사용하여 \"사육장\"이라는 딕셔너리를 만들어주세요!"
   ],
   "id": "eea768f4f558a28a"
  },
  {
   "metadata": {
    "ExecuteTime": {
     "end_time": "2024-10-17T12:29:43.889115Z",
     "start_time": "2024-10-17T12:29:43.885092Z"
    }
   },
   "cell_type": "code",
   "source": [
    "lizard_ages = {\n",
    "    \"dungchi\": dungchi_age,\n",
    "    \"aegi\": aegi_age,\n",
    "    \"mago\": mago_age\n",
    "}"
   ],
   "id": "49874bd7d6ee7c2d",
   "outputs": [],
   "execution_count": 5
  },
  {
   "metadata": {},
   "cell_type": "markdown",
   "source": [
    "## 문제 6\n",
    "### 사육장 딕셔너리를 `key, value` 형태로 출력해주세요!"
   ],
   "id": "a7b973b398f00642"
  },
  {
   "metadata": {
    "ExecuteTime": {
     "end_time": "2024-10-17T12:29:43.913974Z",
     "start_time": "2024-10-17T12:29:43.909988Z"
    }
   },
   "cell_type": "code",
   "source": "print(lizard_ages)",
   "id": "94544cb2f847228f",
   "outputs": [
    {
     "name": "stdout",
     "output_type": "stream",
     "text": [
      "{'dungchi': 1, 'aegi': 2, 'mago': 2}\n"
     ]
    }
   ],
   "execution_count": 6
  },
  {
   "metadata": {},
   "cell_type": "markdown",
   "source": "",
   "id": "fec443543704aada"
  },
  {
   "metadata": {},
   "cell_type": "markdown",
   "source": [
    "## 문제 7\n",
    "### 도마뱀들의 나이를 `실수형태`로 출력해주세요!"
   ],
   "id": "a9aa1a28e60e6bf8"
  },
  {
   "metadata": {
    "ExecuteTime": {
     "end_time": "2024-10-17T12:29:43.970351Z",
     "start_time": "2024-10-17T12:29:43.966472Z"
    }
   },
   "cell_type": "code",
   "source": [
    "ages_float = [float(age) for age in ages]\n",
    "print(f\"도마뱀들의 나이: {ages_float}\")"
   ],
   "id": "2183407c40686977",
   "outputs": [
    {
     "name": "stdout",
     "output_type": "stream",
     "text": [
      "도마뱀들의 나이: [1.0, 2.0, 2.0]\n"
     ]
    }
   ],
   "execution_count": 7
  },
  {
   "metadata": {},
   "cell_type": "markdown",
   "source": [
    "## 문제 8\n",
    "### 1년이 지났습니다.\n",
    "### 도마뱀들이 1살씩 나이를 먹었어요\n",
    "### 도마뱀들의 나이를 바꿔주세요!"
   ],
   "id": "43428aabdee55513"
  },
  {
   "metadata": {
    "ExecuteTime": {
     "end_time": "2024-10-17T12:29:44.001382Z",
     "start_time": "2024-10-17T12:29:43.996950Z"
    }
   },
   "cell_type": "code",
   "source": [
    "ages = [age + 1 for age in ages]\n",
    "lizard_ages = {name: age + 1 for name, age in lizard_ages.items()}\n",
    "print(f\"1년 후 도마뱀들의 나이 리스트: {ages}\")\n",
    "print(f\"1년 후 도마뱀 나이 딕셔너리: {lizard_ages}\")"
   ],
   "id": "286dc862809e7e80",
   "outputs": [
    {
     "name": "stdout",
     "output_type": "stream",
     "text": [
      "1년 후 도마뱀들의 나이 리스트: [2, 3, 3]\n",
      "1년 후 도마뱀 나이 딕셔너리: {'dungchi': 2, 'aegi': 3, 'mago': 3}\n"
     ]
    }
   ],
   "execution_count": 8
  },
  {
   "metadata": {},
   "cell_type": "markdown",
   "source": [
    "## 문제 9\n",
    "### n년이 지났을 때 도마뱀의 나이가 알고 싶어 졌어요!!\n",
    "### `input` 을 이용해서 n년차 도마뱀들의 나이를 출력해주세요!"
   ],
   "id": "ed5d1e1503e37223"
  },
  {
   "metadata": {
    "ExecuteTime": {
     "end_time": "2024-10-17T12:29:49.545749Z",
     "start_time": "2024-10-17T12:29:44.040624Z"
    }
   },
   "cell_type": "code",
   "source": [
    "n = int(input(\"몇 년 후의 도마뱀 나이를 알고 싶나요? \"))\n",
    "ages_after_n_years = [age + n for age in ages]\n",
    "print(f\"{n}년 후 도마뱀들의 나이: {ages_after_n_years}\")"
   ],
   "id": "7a8db95dd6192d42",
   "outputs": [
    {
     "name": "stdout",
     "output_type": "stream",
     "text": [
      "3년 후 도마뱀들의 나이: [5, 6, 6]\n"
     ]
    }
   ],
   "execution_count": 9
  },
  {
   "metadata": {},
   "cell_type": "markdown",
   "source": [
    "## 문제 10\n",
    "### 5년이 지났습니다\n",
    "### 우리 도마뱀들이 너무 커서 사육장을 분리해야해요!\n",
    "### 딕셔너리로 나누었던 것을 사육장1, 2, 3 `리스트`로 변경하고\n",
    "### 각 도마뱀들을 넣어주세요!"
   ],
   "id": "3e3fd38bd44d9b2e"
  },
  {
   "metadata": {
    "ExecuteTime": {
     "end_time": "2024-10-17T12:29:49.564785Z",
     "start_time": "2024-10-17T12:29:49.560793Z"
    }
   },
   "cell_type": "code",
   "source": [
    "cage_1 = [\"dungchi\"]\n",
    "cage_2 = [\"aegi\"]\n",
    "cage_3 = [\"mago\"]\n",
    "cages = [cage_1, cage_2, cage_3]\n",
    "print(f\"사육장 리스트: {cages}\")"
   ],
   "id": "95ad0c7878164214",
   "outputs": [
    {
     "name": "stdout",
     "output_type": "stream",
     "text": [
      "사육장 리스트: [['dungchi'], ['aegi'], ['mago']]\n"
     ]
    }
   ],
   "execution_count": 10
  },
  {
   "metadata": {},
   "cell_type": "markdown",
   "source": "",
   "id": "e9add10bf3ea4774"
  }
 ],
 "metadata": {
  "kernelspec": {
   "display_name": "Python 3",
   "language": "python",
   "name": "python3"
  },
  "language_info": {
   "codemirror_mode": {
    "name": "ipython",
    "version": 2
   },
   "file_extension": ".py",
   "mimetype": "text/x-python",
   "name": "python",
   "nbconvert_exporter": "python",
   "pygments_lexer": "ipython2",
   "version": "2.7.6"
  }
 },
 "nbformat": 4,
 "nbformat_minor": 5
}
