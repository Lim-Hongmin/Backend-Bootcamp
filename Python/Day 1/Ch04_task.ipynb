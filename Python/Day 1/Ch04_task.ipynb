{
 "cells": [
  {
   "cell_type": "markdown",
   "metadata": {},
   "source": [
    "<span style=\"font-size:100%\">\n",
    "\n",
    "수업은 모두 열심히 들으셨나요?\n",
    "\n",
    "간혹 강의에서 언급되지 않은 내용이 문제로 나올 수 있습니다.<br>\n",
    "그럴땐 강의 내용 외 문제는 구글링을 통해 해결해주세요<br></span>\n",
    "<span style=\"font-size:80%\">\n",
    "(구글링 또한 개발자가 갖쳐야할 역량 중에 하나랍니다 😊)\n",
    "</span>\n",
    "\n",
    "---"
   ]
  },
  {
   "cell_type": "markdown",
   "metadata": {},
   "source": [
    "<span style=\"font-size:80%\">[문제1]<br><br></span>\n",
    "```다음 중 14 % 3의 계산 결과로 옳은 것을 고르세요```\n",
    "\n",
    "1. 4\n",
    "2. 4.6\n",
    "3. 2\n",
    "4. 1"
   ]
  },
  {
   "cell_type": "markdown",
   "metadata": {},
   "source": [
    "<span style=\"color:red\">답변</span>"
   ]
  },
  {
   "metadata": {
    "ExecuteTime": {
     "end_time": "2024-10-14T05:51:11.834190Z",
     "start_time": "2024-10-14T05:51:11.829682Z"
    }
   },
   "cell_type": "code",
   "source": "14 % 3",
   "outputs": [
    {
     "data": {
      "text/plain": [
       "2"
      ]
     },
     "execution_count": 3,
     "metadata": {},
     "output_type": "execute_result"
    }
   ],
   "execution_count": 3
  },
  {
   "metadata": {},
   "cell_type": "markdown",
   "source": [
    "나머지 계산. 14를 3으로 나눈 몫은 4이며 나머지는 2이므로 2를 출력함.\n",
    "정답은 3번"
   ]
  },
  {
   "metadata": {},
   "cell_type": "markdown",
   "source": "----"
  },
  {
   "cell_type": "markdown",
   "metadata": {},
   "source": [
    "<span style=\"font-size:80%\">[문제2]<br><br></span>\n",
    "```다음 중 올바르지 않은 것을 고르세요```\n",
    "\n",
    "1. float(17//3)\n",
    "2. int(10)-9\n",
    "3. float11/2\n",
    "4. float(10)-2"
   ]
  },
  {
   "cell_type": "markdown",
   "metadata": {},
   "source": [
    "<span style=\"color:red\">답변</span>"
   ]
  },
  {
   "metadata": {
    "ExecuteTime": {
     "end_time": "2024-10-14T05:50:54.010696Z",
     "start_time": "2024-10-14T05:50:53.427921Z"
    }
   },
   "cell_type": "code",
   "source": "float11/2",
   "outputs": [
    {
     "ename": "NameError",
     "evalue": "name 'float11' is not defined",
     "output_type": "error",
     "traceback": [
      "\u001B[1;31m---------------------------------------------------------------------------\u001B[0m",
      "\u001B[1;31mNameError\u001B[0m                                 Traceback (most recent call last)",
      "Cell \u001B[1;32mIn[2], line 1\u001B[0m\n\u001B[1;32m----> 1\u001B[0m \u001B[43mfloat11\u001B[49m\u001B[38;5;241m/\u001B[39m\u001B[38;5;241m2\u001B[39m\n",
      "\u001B[1;31mNameError\u001B[0m: name 'float11' is not defined"
     ]
    }
   ],
   "execution_count": 2
  },
  {
   "cell_type": "markdown",
   "metadata": {},
   "source": "float 함수를 사용하기 위해서는 괄호를 사용해야함. 그렇지 않으면 오류가 발생. 따라서 올바르지 않은 것은 3번."
  },
  {
   "cell_type": "markdown",
   "metadata": {},
   "source": [
    "----"
   ]
  },
  {
   "cell_type": "markdown",
   "metadata": {},
   "source": [
    "[문제3]<br><br>\n",
    "다음 계산식의 결괏값을 골라주세요\n",
    "\n",
    "(3 * 7 - 16) / 2 - 1"
   ]
  },
  {
   "cell_type": "markdown",
   "metadata": {},
   "source": "<span style=\"color:red\">답변</span>"
  },
  {
   "metadata": {
    "ExecuteTime": {
     "end_time": "2024-10-14T05:50:38.987762Z",
     "start_time": "2024-10-14T05:50:38.979863Z"
    }
   },
   "cell_type": "code",
   "source": "(3 * 7 - 16) / 2 - 1",
   "outputs": [
    {
     "data": {
      "text/plain": [
       "1.5"
      ]
     },
     "execution_count": 1,
     "metadata": {},
     "output_type": "execute_result"
    }
   ],
   "execution_count": 1
  },
  {
   "cell_type": "markdown",
   "metadata": {},
   "source": []
  },
  {
   "cell_type": "markdown",
   "metadata": {},
   "source": [
    "----"
   ]
  },
  {
   "cell_type": "markdown",
   "metadata": {},
   "source": [
    "[문제4]<br><br>\n",
    "거듭제곱을 올바르게 표현한 식을 골라주세요\n",
    "\n",
    "1. 2 ^^ 3\n",
    "2. 2 ** 3\n",
    "3. 2 ^* 3\n",
    "4. 2 ~~ 3"
   ]
  },
  {
   "cell_type": "markdown",
   "metadata": {},
   "source": [
    "<span style=\"color:red\">답변</span>"
   ]
  },
  {
   "metadata": {
    "ExecuteTime": {
     "end_time": "2024-10-14T05:51:28.196227Z",
     "start_time": "2024-10-14T05:51:28.191893Z"
    }
   },
   "cell_type": "code",
   "source": "2 ** 3",
   "outputs": [
    {
     "data": {
      "text/plain": [
       "8"
      ]
     },
     "execution_count": 4,
     "metadata": {},
     "output_type": "execute_result"
    }
   ],
   "execution_count": 4
  },
  {
   "cell_type": "markdown",
   "metadata": {},
   "source": "파이썬에서 거듭 제곱은 **로 표기한다. 따라서 정답은 2번"
  },
  {
   "cell_type": "markdown",
   "metadata": {},
   "source": [
    "----"
   ]
  },
  {
   "cell_type": "markdown",
   "metadata": {},
   "source": [
    "[문제5]<br><br>\n",
    "목과 나머지를 함께 구하기 위해 사용할 수 있는 표현을 골라주세요\n",
    "\n",
    "1. //\n",
    "2. divmod()\n",
    "3. %\n",
    "4. /"
   ]
  },
  {
   "cell_type": "markdown",
   "metadata": {},
   "source": [
    "<span style=\"color:red\">답변</span>"
   ]
  },
  {
   "metadata": {
    "ExecuteTime": {
     "end_time": "2024-10-14T05:51:54.569488Z",
     "start_time": "2024-10-14T05:51:54.564748Z"
    }
   },
   "cell_type": "code",
   "source": "divmod(15, 6)",
   "outputs": [
    {
     "data": {
      "text/plain": [
       "(2, 3)"
      ]
     },
     "execution_count": 5,
     "metadata": {},
     "output_type": "execute_result"
    }
   ],
   "execution_count": 5
  },
  {
   "cell_type": "markdown",
   "metadata": {},
   "source": [
    "몫과 나머지를 함께 구하는 함수는 divmod()\n",
    "정답은 2번."
   ]
  }
 ],
 "metadata": {
  "language_info": {
   "name": "python"
  },
  "kernelspec": {
   "name": "python3",
   "language": "python",
   "display_name": "Python 3 (ipykernel)"
  }
 },
 "nbformat": 4,
 "nbformat_minor": 2
}
