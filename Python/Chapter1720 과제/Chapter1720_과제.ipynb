{
 "cells": [
  {
   "cell_type": "markdown",
   "metadata": {
    "id": "aLkxKxnFLowa"
   },
   "source": [
    "안녕하세요. 수강생 여러분~! Chapter17 ~ 20 수업은 잘 들으셨나요?\n",
    "\n",
    "Chapter17 ~ 20의 수업 내용을 바탕으로 아래 문제를 풀어주시면 됩니다.\n",
    "\n",
    "[**답변 입력 방법**]\n",
    "\n",
    "문제 아래에 있는 코드 입력창에 정답코드를 작성하신 후 ▷ 버튼을 클릭해 코드를 실행해보세요<br>"
   ]
  },
  {
   "cell_type": "markdown",
   "metadata": {
    "id": "pYJ1dSggLwcG"
   },
   "source": [
    "[문제1]\n",
    "\n",
    "print_even 리스트 내에 있는 값 중 짝수만 화면에 출력되도록 print_score 함수를 생성 후 결과값을 출력해주세요\n",
    "\n",
    "print_even ([1, 3, 2, 10, 12, 11, 15])"
   ]
  },
  {
   "cell_type": "code",
   "metadata": {
    "id": "PTqEeebbLmCA",
    "ExecuteTime": {
     "end_time": "2024-10-19T03:23:25.656164Z",
     "start_time": "2024-10-19T03:23:25.651251Z"
    }
   },
   "source": [
    "def print_score(print_even):\n",
    "    for num in print_even:\n",
    "        if num % 2 == 0:\n",
    "            print(num)\n",
    "\n",
    "print_score([1, 3, 2, 10, 12, 11, 15])"
   ],
   "outputs": [
    {
     "name": "stdout",
     "output_type": "stream",
     "text": [
      "2\n",
      "10\n",
      "12\n"
     ]
    }
   ],
   "execution_count": 8
  },
  {
   "cell_type": "markdown",
   "metadata": {},
   "source": [
    "---"
   ]
  },
  {
   "cell_type": "markdown",
   "metadata": {
    "id": "ZkGserEsQS0L"
   },
   "source": [
    "[문제2]\n",
    "\n",
    "비어있는 오즈 (oz) 클래스를 \"정의\" 해보세요."
   ]
  },
  {
   "cell_type": "code",
   "metadata": {
    "id": "dJbcWWlwL0iK",
    "ExecuteTime": {
     "end_time": "2024-10-19T03:23:27.097314Z",
     "start_time": "2024-10-19T03:23:27.093683Z"
    }
   },
   "source": [
    "class oz:\n",
    "    pass"
   ],
   "outputs": [],
   "execution_count": 9
  },
  {
   "cell_type": "markdown",
   "metadata": {},
   "source": [
    "---"
   ]
  },
  {
   "cell_type": "markdown",
   "metadata": {
    "id": "Ofy86rZfL1Mg"
   },
   "source": [
    "[문제3]\n",
    "\n",
    "오즈(oz) 클래스의 인스턴스를 \"생성\" 하고 이를 coding 변수로 할당해보세요."
   ]
  },
  {
   "cell_type": "code",
   "metadata": {
    "id": "5NhWiuULL2Xa",
    "ExecuteTime": {
     "end_time": "2024-10-19T03:23:28.007753Z",
     "start_time": "2024-10-19T03:23:28.004540Z"
    }
   },
   "source": "coding = oz()",
   "outputs": [],
   "execution_count": 10
  },
  {
   "cell_type": "markdown",
   "metadata": {},
   "source": [
    "---"
   ]
  },
  {
   "cell_type": "markdown",
   "metadata": {
    "id": "5T6EMx8EL26b"
   },
   "source": [
    "[문제4]\n",
    "\n",
    "오즈(oz) 클래스에 \"클래스 정복\"을 출력하는 기본 생성자를 추가해주세요"
   ]
  },
  {
   "cell_type": "code",
   "metadata": {
    "id": "Zq35PXA0L3-m",
    "ExecuteTime": {
     "end_time": "2024-10-19T03:23:28.782178Z",
     "start_time": "2024-10-19T03:23:28.778019Z"
    }
   },
   "source": [
    "class oz:\n",
    "    def __init__(self):\n",
    "        print(\"클래스 정복\")"
   ],
   "outputs": [],
   "execution_count": 11
  },
  {
   "cell_type": "markdown",
   "metadata": {},
   "source": [
    "---"
   ]
  },
  {
   "cell_type": "markdown",
   "metadata": {
    "id": "htuycQWSL4l-"
   },
   "source": [
    "[문제5]\n",
    "\n",
    "오즈 (oz) 클래스에 (이름, 나이, 코딩레벨)을 받는 생성자를 추가해주세요\n",
    "\n",
    "coding = oz(\"김코\", 30, \"A\")\n"
   ]
  },
  {
   "cell_type": "code",
   "metadata": {
    "id": "A7h3I8CWL5ox",
    "ExecuteTime": {
     "end_time": "2024-10-19T03:23:29.541592Z",
     "start_time": "2024-10-19T03:23:29.538567Z"
    }
   },
   "source": [
    "class oz:\n",
    "    def __init__(self, name, age, coding_level):\n",
    "        self.name = name\n",
    "        self.age = age\n",
    "        self.coding_level = coding_level\n",
    "\n",
    "coding = oz(\"김코\", 30, \"A\")"
   ],
   "outputs": [],
   "execution_count": 12
  },
  {
   "cell_type": "markdown",
   "metadata": {},
   "source": [
    "---"
   ]
  },
  {
   "cell_type": "markdown",
   "metadata": {
    "id": "ZGDLHI5xL6Bd"
   },
   "source": [
    "[문제6]\n",
    "\n",
    "5번 문제에서 생성한 인스턴스의 이름, 나이, 성별을 출력해주세요.\n",
    "인스턴스 변수에 접근하여 값을 출력하면 됩니다  : )\n",
    "\n",
    "출력 결과  \n",
    "이름 : 김코  \n",
    "나이 : 30  \n",
    "코딩레벨 : A  "
   ]
  },
  {
   "cell_type": "code",
   "metadata": {
    "id": "qCrPejI_L8Wr",
    "ExecuteTime": {
     "end_time": "2024-10-19T03:23:30.334926Z",
     "start_time": "2024-10-19T03:23:30.330981Z"
    }
   },
   "source": [
    "print(f\"이름 : {coding.name}\")\n",
    "print(f\"나이 : {coding.age}\")\n",
    "print(f\"코딩레벨 : {coding.coding_level}\")"
   ],
   "outputs": [
    {
     "name": "stdout",
     "output_type": "stream",
     "text": [
      "이름 : 김코\n",
      "나이 : 30\n",
      "코딩레벨 : A\n"
     ]
    }
   ],
   "execution_count": 13
  },
  {
   "cell_type": "markdown",
   "metadata": {},
   "source": [
    "---"
   ]
  },
  {
   "cell_type": "markdown",
   "metadata": {
    "id": "RmtPk-A1L8z4"
   },
   "source": [
    "[뮨제7]\n",
    "\n",
    "오즈 (oz) 클래스에서 이름, 나이, 성별을 출력하는 who() 메소드를 추가하고 who()메소드를 이용해 아래 출력 결과를 만들어주세요\n",
    "\n",
    "\n",
    "출력 결과 : 이름: 김코, 나이: 30, 코딩레벨: A"
   ]
  },
  {
   "cell_type": "code",
   "metadata": {
    "id": "fvrvm87vL_HZ",
    "ExecuteTime": {
     "end_time": "2024-10-19T03:23:31.279580Z",
     "start_time": "2024-10-19T03:23:31.274121Z"
    }
   },
   "source": [
    "class oz:\n",
    "    def __init__(self, name, age, coding_level):\n",
    "        self.name = name\n",
    "        self.age = age\n",
    "        self.coding_level = coding_level\n",
    "\n",
    "    def who(self):\n",
    "        print(f\"이름: {self.name}, 나이: {self.age}, 코딩레벨: {self.coding_level}\")\n",
    "\n",
    "coding = oz(\"김코\", 30, \"A\")\n",
    "coding.who()"
   ],
   "outputs": [
    {
     "name": "stdout",
     "output_type": "stream",
     "text": [
      "이름: 김코, 나이: 30, 코딩레벨: A\n"
     ]
    }
   ],
   "execution_count": 14
  },
  {
   "cell_type": "markdown",
   "metadata": {},
   "source": [
    "#### 리팩토링 과제\n",
    "\n",
    "Day4에서 만든 \"붕어빵 자동 판매 시스템\"은 절차적 코드로 구현되어있습니다.\n",
    "\n",
    "Day5에서 배운 함수, 클래스 개념을 적용시켜 객체지향적으로 리팩토링을 진행해주세요\n"
   ]
  },
  {
   "cell_type": "code",
   "metadata": {
    "ExecuteTime": {
     "end_time": "2024-10-19T03:23:31.820048Z",
     "start_time": "2024-10-19T03:23:31.814211Z"
    }
   },
   "source": [
    "# 리팩토링 과제 힌트\n",
    "# 구조는 아래와 같습니다.\n",
    "class BungeoppangShop:\n",
    "    def __init__(self):\n",
    "\n",
    "    def check_stock(self):\n",
    "\n",
    "    def process_order(self, bread_type, bread_count):\n",
    "\n",
    "    def admin_mode(self):\n",
    "\n",
    "    def calculate_total_sales(self):\n",
    "\n",
    "def main():\n",
    "\n",
    "if __name__ == \"__main__\":\n",
    "    main()\n"
   ],
   "outputs": [
    {
     "ename": "IndentationError",
     "evalue": "expected an indented block after function definition on line 4 (1162050397.py, line 6)",
     "output_type": "error",
     "traceback": [
      "\u001B[1;36m  Cell \u001B[1;32mIn[15], line 6\u001B[1;36m\u001B[0m\n\u001B[1;33m    def check_stock(self):\u001B[0m\n\u001B[1;37m    ^\u001B[0m\n\u001B[1;31mIndentationError\u001B[0m\u001B[1;31m:\u001B[0m expected an indented block after function definition on line 4\n"
     ]
    }
   ],
   "execution_count": 15
  },
  {
   "cell_type": "markdown",
   "metadata": {},
   "source": [
    "과제_1: BungeoppangShop 클래스 만들기\n",
    "\n",
    "- __init__: 초기 재고, 가격, 판매량을 설정합니다.\n",
    "- check_stock: 현재 재고를 출력합니다.\n",
    "- process_order: 주문을 처리하고 재고를 업데이트합니다.\n",
    "- admin_mode: 관리자 모드에서 재고를 추가합니다.\n",
    "- calculate_total_sales: 총 매출을 계산하고 출력합니다."
   ]
  },
  {
   "cell_type": "code",
   "metadata": {
    "ExecuteTime": {
     "end_time": "2024-10-19T03:23:37.364215Z",
     "start_time": "2024-10-19T03:23:37.359992Z"
    }
   },
   "source": [
    "class BungeoppangShop:\n",
    "    def __init__(self):\n",
    "        pass\n",
    "    \n",
    "    def check_stock(self):\n",
    "        pass\n",
    "\n",
    "    def process_order(self, bread_type, bread_count):\n",
    "        pass\n",
    "\n",
    "    def admin_mode(self):\n",
    "        pass\n",
    "\n",
    "    def calculate_total_sales(self):\n",
    "        pass\n",
    "\n",
    "def main():\n",
    "    pass\n",
    "\n",
    "if __name__ == \"__main__\":\n",
    "    main()"
   ],
   "outputs": [],
   "execution_count": 16
  },
  {
   "cell_type": "markdown",
   "metadata": {},
   "source": [
    "[과제 2: 초기화 메서드 __init__]\n",
    "\n",
    "목표: __init__ 메서드를 구현하여 붕어빵 가게의 초기 재고, 가격, 판매량을 설정합니다.\n",
    "\n",
    "설명: self.stock, self.prices, self.sales 딕셔너리를 초기화하세요.\n",
    "- stock \n",
    "    - \"팥붕어빵\": 10\n",
    "    - \"슈크림붕어빵\": 8\n",
    "    - \"초코붕어빵\": 5\n",
    "\n",
    "- prices\n",
    "    - \"팥붕어빵\": 1000\n",
    "    - \"슈크림붕어빵\": 1200\n",
    "    - \"초코붕어빵\": 1500\n",
    "\n",
    "- sales\n",
    "    - \"팥붕어빵\": 0,\n",
    "    - \"슈크림붕어빵\": 0,\n",
    "    - \"초코붕어빵\": 0"
   ]
  },
  {
   "cell_type": "code",
   "metadata": {
    "ExecuteTime": {
     "end_time": "2024-10-19T03:23:38.273914Z",
     "start_time": "2024-10-19T03:23:38.269291Z"
    }
   },
   "source": [
    "initial_stock = {\n",
    "    \"팥붕어빵\": 10,\n",
    "    \"슈크림붕어빵\": 8,\n",
    "    \"초코붕어빵\": 5\n",
    "}\n",
    "\n",
    "initial_prices = {\n",
    "    \"팥붕어빵\": 1000,\n",
    "    \"슈크림붕어빵\": 1200,\n",
    "    \"초코붕어빵\": 1500\n",
    "}\n",
    "\n",
    "initial_sales = {\n",
    "    \"팥붕어빵\": 0,\n",
    "    \"슈크림붕어빵\": 0,\n",
    "    \"초코붕어빵\": 0\n",
    "}\n",
    "\n",
    "# 리팩토링된 BungeoppangShop 클래스\n",
    "class BungeoppangShop:\n",
    "    def __init__(self, stock, prices, sales):\n",
    "        # 외부에서 받은 초기 재고, 가격, 판매량 설정\n",
    "        self.stock = stock\n",
    "        self.prices = prices\n",
    "        self.sales = sales"
   ],
   "outputs": [],
   "execution_count": 17
  },
  {
   "cell_type": "markdown",
   "metadata": {},
   "source": [
    "[과제 3: 재고 확인 메서드 check_stock]\n",
    "\n",
    "목표: check_stock 함수를 구현하여 현재 붕어빵 재고를 출력합니다.\n",
    "\n",
    "설명: self.stock 딕셔너리를 순회하며 각 붕어빵의 종류와 재고를 출력하세요.\n"
   ]
  },
  {
   "cell_type": "code",
   "metadata": {
    "ExecuteTime": {
     "end_time": "2024-10-19T03:23:39.306759Z",
     "start_time": "2024-10-19T03:23:39.302332Z"
    }
   },
   "source": [
    "class BungeoppangShop:\n",
    "    def __init__(self, stock, prices, sales):\n",
    "        # 외부에서 받은 초기 재고, 가격, 판매량 설정\n",
    "        self.stock = stock\n",
    "        self.prices = prices\n",
    "        self.sales = sales\n",
    "\n",
    "    def check_stock(self):\n",
    "        for bread, count in self.stock.items():\n",
    "            print(f\"{bread}: {count}개 남았습니다.\")"
   ],
   "outputs": [],
   "execution_count": 18
  },
  {
   "cell_type": "markdown",
   "metadata": {},
   "source": [
    "[과제 4: 주문 처리 메서드 process_order]\n",
    "\n",
    "목표: process_order 함수를 구현하여 손님의 주문을 처리하고 재고를 업데이트합니다.\n",
    "\n",
    "설명: bread_type과 bread_count를 매개변수로 받아, 재고를 확인하고 충분한 경우 재고를 감소시키고 판매량을 증가시킵니다. 재고가 부족하거나 잘못된 붕어빵 종류인 경우 적절한 메시지를 출력하세요."
   ]
  },
  {
   "cell_type": "code",
   "metadata": {
    "ExecuteTime": {
     "end_time": "2024-10-19T03:23:41.096442Z",
     "start_time": "2024-10-19T03:23:41.091642Z"
    }
   },
   "source": [
    "class BungeoppangShop:\n",
    "    def __init__(self, stock, prices, sales):\n",
    "        # 외부에서 받은 초기 재고, 가격, 판매량 설정\n",
    "        self.stock = stock\n",
    "        self.prices = prices\n",
    "        self.sales = sales\n",
    "\n",
    "    def check_stock(self):\n",
    "        for bread, count in self.stock.items():\n",
    "            print(f\"{bread}: {count}개 남았습니다.\")\n",
    "\n",
    "    def process_order(self, bread_type, bread_count):\n",
    "        if bread_type in self.stock:\n",
    "            if self.stock[bread_type] >= bread_count:\n",
    "                self.stock[bread_type] -= bread_count\n",
    "                self.sales[bread_type] += bread_count\n",
    "                print(f\"{bread_type} {bread_count}개 주문이 완료되었습니다.\")\n",
    "            else:\n",
    "                print(f\"죄송합니다. {bread_type}의 재고가 부족합니다.\")\n",
    "        else:\n",
    "            print(\"존재하지 않는 붕어빵 종류입니다.\")"
   ],
   "outputs": [],
   "execution_count": 19
  },
  {
   "cell_type": "markdown",
   "metadata": {},
   "source": [
    "[과제 5: 관리자 모드 메서드 admin_mode]\n",
    "\n",
    "목표: admin_mode 메서드를 구현하여 관리자 모드에서 재고를 추가할 수 있도록 합니다.\n",
    "\n",
    "설명: bread_type과 additional_stock을 입력받아 재고를 추가합니다. 잘못된 입력 값이 들어온 경우 적절한 메시지를 출력하세요."
   ]
  },
  {
   "cell_type": "code",
   "metadata": {
    "ExecuteTime": {
     "end_time": "2024-10-19T03:23:42.109155Z",
     "start_time": "2024-10-19T03:23:42.103258Z"
    }
   },
   "source": [
    "class BungeoppangShop:\n",
    "    def __init__(self, stock, prices, sales):\n",
    "        # 외부에서 받은 초기 재고, 가격, 판매량 설정\n",
    "        self.stock = stock\n",
    "        self.prices = prices\n",
    "        self.sales = sales\n",
    "\n",
    "    def check_stock(self):\n",
    "        for bread, count in self.stock.items():\n",
    "            print(f\"{bread}: {count}개 남았습니다.\")\n",
    "\n",
    "    def process_order(self, bread_type, bread_count):\n",
    "        if bread_type in self.stock:\n",
    "            if self.stock[bread_type] >= bread_count:\n",
    "                self.stock[bread_type] -= bread_count\n",
    "                self.sales[bread_type] += bread_count\n",
    "                print(f\"{bread_type} {bread_count}개 주문이 완료되었습니다.\")\n",
    "            else:\n",
    "                print(f\"죄송합니다. {bread_type}의 재고가 부족합니다.\")\n",
    "        else:\n",
    "            print(\"존재하지 않는 붕어빵 종류입니다.\")\n",
    "\n",
    "    def admin_mode(self, bread_type, additional_stock):\n",
    "        if bread_type in self.stock:\n",
    "            self.stock[bread_type] += additional_stock\n",
    "            print(f\"{bread_type}의 재고가 {additional_stock}개 추가되었습니다.\")\n",
    "        else:\n",
    "            print(\"존재하지 않는 붕어빵 종류입니다.\")"
   ],
   "outputs": [],
   "execution_count": 20
  },
  {
   "cell_type": "markdown",
   "metadata": {},
   "source": [
    "\n",
    "[과제 6: 매출 계산 메서드 calculate_total_sales]\n",
    "\n",
    "목표: calculate_total_sales 메서드를 구현하여 총 매출을 계산하고 출력합니다.\n",
    "\n",
    "설명: self.sales와 self.prices를 사용하여 총 매출을 계산하고 출력하세요."
   ]
  },
  {
   "cell_type": "code",
   "metadata": {
    "ExecuteTime": {
     "end_time": "2024-10-19T03:23:42.736695Z",
     "start_time": "2024-10-19T03:23:42.731331Z"
    }
   },
   "source": [
    "class BungeoppangShop:\n",
    "    def __init__(self, stock, prices, sales):\n",
    "        # 외부에서 받은 초기 재고, 가격, 판매량 설정\n",
    "        self.stock = stock\n",
    "        self.prices = prices\n",
    "        self.sales = sales\n",
    "\n",
    "    def check_stock(self):\n",
    "        for bread, count in self.stock.items():\n",
    "            print(f\"{bread}: {count}개 남았습니다.\")\n",
    "\n",
    "    def process_order(self, bread_type, bread_count):\n",
    "        if bread_type in self.stock:\n",
    "            if self.stock[bread_type] >= bread_count:\n",
    "                self.stock[bread_type] -= bread_count\n",
    "                self.sales[bread_type] += bread_count\n",
    "                print(f\"{bread_type} {bread_count}개 주문이 완료되었습니다.\")\n",
    "            else:\n",
    "                print(f\"죄송합니다. {bread_type}의 재고가 부족합니다.\")\n",
    "        else:\n",
    "            print(\"존재하지 않는 붕어빵 종류입니다.\")\n",
    "\n",
    "    def admin_mode(self, bread_type, additional_stock):\n",
    "        if bread_type in self.stock:\n",
    "            self.stock[bread_type] += additional_stock\n",
    "            print(f\"{bread_type}의 재고가 {additional_stock}개 추가되었습니다.\")\n",
    "        else:\n",
    "            print(\"존재하지 않는 붕어빵 종류입니다.\")\n",
    "\n",
    "    def calculate_total_sales(self):\n",
    "        total_sales = 0\n",
    "        for bread, count in self.sales.items():\n",
    "            total_sales += count * self.prices[bread]\n",
    "        print(f\"총 매출: {total_sales}원\")"
   ],
   "outputs": [],
   "execution_count": 21
  },
  {
   "cell_type": "markdown",
   "metadata": {},
   "source": [
    "[과제 8: 메인 함수 main]\n",
    "\n",
    "목표: main 함수를 작성하여 프로그램의 주요 로직을 실행합니다.\n",
    "\n",
    "설명:\n",
    "- BungeoppangShop 객체를 생성합니다.\n",
    "- 사용자에게 모드를 선택하도록 요청합니다.\n",
    "- \"주문\" 모드에서는 손님의 주문을 처리하고, \"관리자\" 모드에서는 재고를 추가할 수 있습니다.\n",
    "- 프로그램이 종료될 때 총 매출을 계산하고 데이터를 저장합니다.\n"
   ]
  },
  {
   "cell_type": "code",
   "metadata": {
    "ExecuteTime": {
     "end_time": "2024-10-19T03:26:26.501240Z",
     "start_time": "2024-10-19T03:26:13.854325Z"
    }
   },
   "source": [
    "\n",
    "class BungeoppangShop:\n",
    "    def __init__(self, stock, prices, sales):\n",
    "        # 외부에서 받은 초기 재고, 가격, 판매량 설정\n",
    "        self.stock = stock\n",
    "        self.prices = prices\n",
    "        self.sales = sales\n",
    "\n",
    "    def check_stock(self):\n",
    "        for bread, count in self.stock.items():\n",
    "            print(f\"{bread}: {count}개 남았습니다.\")\n",
    "\n",
    "    def process_order(self, bread_type, bread_count):\n",
    "        if bread_type in self.stock:\n",
    "            if self.stock[bread_type] >= bread_count:\n",
    "                self.stock[bread_type] -= bread_count\n",
    "                self.sales[bread_type] += bread_count\n",
    "                print(f\"{bread_type} {bread_count}개 주문이 완료되었습니다.\")\n",
    "            else:\n",
    "                print(f\"죄송합니다. {bread_type}의 재고가 부족합니다.\")\n",
    "        else:\n",
    "            print(\"존재하지 않는 붕어빵 종류입니다.\")\n",
    "\n",
    "    def admin_mode(self, bread_type, additional_stock):\n",
    "        if bread_type in self.stock:\n",
    "            self.stock[bread_type] += additional_stock\n",
    "            print(f\"{bread_type}의 재고가 {additional_stock}개 추가되었습니다.\")\n",
    "        else:\n",
    "            print(\"존재하지 않는 붕어빵 종류입니다.\")\n",
    "\n",
    "    def calculate_total_sales(self):\n",
    "        total_sales = 0\n",
    "        for bread, count in self.sales.items():\n",
    "            total_sales += count * self.prices[bread]\n",
    "        print(f\"총 매출: {total_sales}원\")\n",
    "\n",
    "# main 함수 작성\n",
    "def main():\n",
    "    shop = BungeoppangShop(stock=initial_stock, prices=initial_prices, sales=initial_sales)\n",
    "    while True:\n",
    "        mode = input(\"모드를 선택하세요 (주문/관리자/종료): \")\n",
    "        if mode == \"주문\":\n",
    "            bread_type = input(\"주문할 붕어빵 종류를 입력하세요: \")\n",
    "            bread_count = int(input(\"주문할 개수를 입력하세요: \"))\n",
    "            shop.process_order(bread_type, bread_count)\n",
    "        elif mode == \"관리자\":\n",
    "            bread_type = input(\"재고를 추가할 붕어빵 종류를 입력하세요: \")\n",
    "            additional_stock = int(input(\"추가할 재고 개수를 입력하세요: \"))\n",
    "            shop.admin_mode(bread_type, additional_stock)\n",
    "        elif mode == \"종료\":\n",
    "            shop.calculate_total_sales()\n",
    "            break\n",
    "        else:\n",
    "            print(\"잘못된 입력입니다.\")\n",
    "\n",
    "if __name__ == \"__main__\":\n",
    "    main()"
   ],
   "outputs": [
    {
     "name": "stdout",
     "output_type": "stream",
     "text": [
      "팥붕어빵 10개 주문이 완료되었습니다.\n"
     ]
    },
    {
     "ename": "KeyboardInterrupt",
     "evalue": "Interrupted by user",
     "output_type": "error",
     "traceback": [
      "\u001B[1;31m---------------------------------------------------------------------------\u001B[0m",
      "\u001B[1;31mKeyboardInterrupt\u001B[0m                         Traceback (most recent call last)",
      "Cell \u001B[1;32mIn[26], line 56\u001B[0m\n\u001B[0;32m     53\u001B[0m             \u001B[38;5;28mprint\u001B[39m(\u001B[38;5;124m\"\u001B[39m\u001B[38;5;124m잘못된 입력입니다.\u001B[39m\u001B[38;5;124m\"\u001B[39m)\n\u001B[0;32m     55\u001B[0m \u001B[38;5;28;01mif\u001B[39;00m \u001B[38;5;18m__name__\u001B[39m \u001B[38;5;241m==\u001B[39m \u001B[38;5;124m\"\u001B[39m\u001B[38;5;124m__main__\u001B[39m\u001B[38;5;124m\"\u001B[39m:\n\u001B[1;32m---> 56\u001B[0m     \u001B[43mmain\u001B[49m\u001B[43m(\u001B[49m\u001B[43m)\u001B[49m\n",
      "Cell \u001B[1;32mIn[26], line 40\u001B[0m, in \u001B[0;36mmain\u001B[1;34m()\u001B[0m\n\u001B[0;32m     38\u001B[0m shop \u001B[38;5;241m=\u001B[39m BungeoppangShop(stock\u001B[38;5;241m=\u001B[39minitial_stock, prices\u001B[38;5;241m=\u001B[39minitial_prices, sales\u001B[38;5;241m=\u001B[39minitial_sales)\n\u001B[0;32m     39\u001B[0m \u001B[38;5;28;01mwhile\u001B[39;00m \u001B[38;5;28;01mTrue\u001B[39;00m:\n\u001B[1;32m---> 40\u001B[0m     mode \u001B[38;5;241m=\u001B[39m \u001B[38;5;28;43minput\u001B[39;49m\u001B[43m(\u001B[49m\u001B[38;5;124;43m\"\u001B[39;49m\u001B[38;5;124;43m모드를 선택하세요 (주문/관리자/종료): \u001B[39;49m\u001B[38;5;124;43m\"\u001B[39;49m\u001B[43m)\u001B[49m\n\u001B[0;32m     41\u001B[0m     \u001B[38;5;28;01mif\u001B[39;00m mode \u001B[38;5;241m==\u001B[39m \u001B[38;5;124m\"\u001B[39m\u001B[38;5;124m주문\u001B[39m\u001B[38;5;124m\"\u001B[39m:\n\u001B[0;32m     42\u001B[0m         bread_type \u001B[38;5;241m=\u001B[39m \u001B[38;5;28minput\u001B[39m(\u001B[38;5;124m\"\u001B[39m\u001B[38;5;124m주문할 붕어빵 종류를 입력하세요: \u001B[39m\u001B[38;5;124m\"\u001B[39m)\n",
      "File \u001B[1;32m~\\Desktop\\Backend-Bootcamp\\venv\\Lib\\site-packages\\ipykernel\\kernelbase.py:1282\u001B[0m, in \u001B[0;36mKernel.raw_input\u001B[1;34m(self, prompt)\u001B[0m\n\u001B[0;32m   1280\u001B[0m     msg \u001B[38;5;241m=\u001B[39m \u001B[38;5;124m\"\u001B[39m\u001B[38;5;124mraw_input was called, but this frontend does not support input requests.\u001B[39m\u001B[38;5;124m\"\u001B[39m\n\u001B[0;32m   1281\u001B[0m     \u001B[38;5;28;01mraise\u001B[39;00m StdinNotImplementedError(msg)\n\u001B[1;32m-> 1282\u001B[0m \u001B[38;5;28;01mreturn\u001B[39;00m \u001B[38;5;28;43mself\u001B[39;49m\u001B[38;5;241;43m.\u001B[39;49m\u001B[43m_input_request\u001B[49m\u001B[43m(\u001B[49m\n\u001B[0;32m   1283\u001B[0m \u001B[43m    \u001B[49m\u001B[38;5;28;43mstr\u001B[39;49m\u001B[43m(\u001B[49m\u001B[43mprompt\u001B[49m\u001B[43m)\u001B[49m\u001B[43m,\u001B[49m\n\u001B[0;32m   1284\u001B[0m \u001B[43m    \u001B[49m\u001B[38;5;28;43mself\u001B[39;49m\u001B[38;5;241;43m.\u001B[39;49m\u001B[43m_parent_ident\u001B[49m\u001B[43m[\u001B[49m\u001B[38;5;124;43m\"\u001B[39;49m\u001B[38;5;124;43mshell\u001B[39;49m\u001B[38;5;124;43m\"\u001B[39;49m\u001B[43m]\u001B[49m\u001B[43m,\u001B[49m\n\u001B[0;32m   1285\u001B[0m \u001B[43m    \u001B[49m\u001B[38;5;28;43mself\u001B[39;49m\u001B[38;5;241;43m.\u001B[39;49m\u001B[43mget_parent\u001B[49m\u001B[43m(\u001B[49m\u001B[38;5;124;43m\"\u001B[39;49m\u001B[38;5;124;43mshell\u001B[39;49m\u001B[38;5;124;43m\"\u001B[39;49m\u001B[43m)\u001B[49m\u001B[43m,\u001B[49m\n\u001B[0;32m   1286\u001B[0m \u001B[43m    \u001B[49m\u001B[43mpassword\u001B[49m\u001B[38;5;241;43m=\u001B[39;49m\u001B[38;5;28;43;01mFalse\u001B[39;49;00m\u001B[43m,\u001B[49m\n\u001B[0;32m   1287\u001B[0m \u001B[43m\u001B[49m\u001B[43m)\u001B[49m\n",
      "File \u001B[1;32m~\\Desktop\\Backend-Bootcamp\\venv\\Lib\\site-packages\\ipykernel\\kernelbase.py:1325\u001B[0m, in \u001B[0;36mKernel._input_request\u001B[1;34m(self, prompt, ident, parent, password)\u001B[0m\n\u001B[0;32m   1322\u001B[0m \u001B[38;5;28;01mexcept\u001B[39;00m \u001B[38;5;167;01mKeyboardInterrupt\u001B[39;00m:\n\u001B[0;32m   1323\u001B[0m     \u001B[38;5;66;03m# re-raise KeyboardInterrupt, to truncate traceback\u001B[39;00m\n\u001B[0;32m   1324\u001B[0m     msg \u001B[38;5;241m=\u001B[39m \u001B[38;5;124m\"\u001B[39m\u001B[38;5;124mInterrupted by user\u001B[39m\u001B[38;5;124m\"\u001B[39m\n\u001B[1;32m-> 1325\u001B[0m     \u001B[38;5;28;01mraise\u001B[39;00m \u001B[38;5;167;01mKeyboardInterrupt\u001B[39;00m(msg) \u001B[38;5;28;01mfrom\u001B[39;00m \u001B[38;5;28;01mNone\u001B[39;00m\n\u001B[0;32m   1326\u001B[0m \u001B[38;5;28;01mexcept\u001B[39;00m \u001B[38;5;167;01mException\u001B[39;00m:\n\u001B[0;32m   1327\u001B[0m     \u001B[38;5;28mself\u001B[39m\u001B[38;5;241m.\u001B[39mlog\u001B[38;5;241m.\u001B[39mwarning(\u001B[38;5;124m\"\u001B[39m\u001B[38;5;124mInvalid Message:\u001B[39m\u001B[38;5;124m\"\u001B[39m, exc_info\u001B[38;5;241m=\u001B[39m\u001B[38;5;28;01mTrue\u001B[39;00m)\n",
      "\u001B[1;31mKeyboardInterrupt\u001B[0m: Interrupted by user"
     ]
    }
   ],
   "execution_count": 26
  },
  {
   "metadata": {},
   "cell_type": "code",
   "outputs": [],
   "execution_count": null,
   "source": ""
  },
  {
   "metadata": {
    "ExecuteTime": {
     "end_time": "2024-10-19T03:23:44.057961Z",
     "start_time": "2024-10-19T03:23:44.054767Z"
    }
   },
   "cell_type": "code",
   "source": "",
   "outputs": [],
   "execution_count": null
  },
  {
   "metadata": {},
   "cell_type": "code",
   "outputs": [],
   "execution_count": null,
   "source": ""
  }
 ],
 "metadata": {
  "colab": {
   "authorship_tag": "ABX9TyMfxSNOybrh/E7+DQqfYMY3",
   "provenance": []
  },
  "kernelspec": {
   "display_name": "Python 3 (ipykernel)",
   "name": "python3",
   "language": "python"
  },
  "language_info": {
   "codemirror_mode": {
    "name": "ipython",
    "version": 3
   },
   "file_extension": ".py",
   "mimetype": "text/x-python",
   "name": "python",
   "nbconvert_exporter": "python",
   "pygments_lexer": "ipython3",
   "version": "3.11.7"
  }
 },
 "nbformat": 4,
 "nbformat_minor": 0
}
